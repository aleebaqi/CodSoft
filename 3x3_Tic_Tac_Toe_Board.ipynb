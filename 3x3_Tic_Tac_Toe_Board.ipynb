{
  "nbformat": 4,
  "nbformat_minor": 0,
  "metadata": {
    "colab": {
      "provenance": [],
      "authorship_tag": "ABX9TyNKsbfABtNq3I4QA4gVvq7v",
      "include_colab_link": true
    },
    "kernelspec": {
      "name": "python3",
      "display_name": "Python 3"
    },
    "language_info": {
      "name": "python"
    }
  },
  "cells": [
    {
      "cell_type": "markdown",
      "metadata": {
        "id": "view-in-github",
        "colab_type": "text"
      },
      "source": [
        "<a href=\"https://colab.research.google.com/github/aleebaqi/CodSoft/blob/main/3x3_Tic_Tac_Toe_Board.ipynb\" target=\"_parent\"><img src=\"https://colab.research.google.com/assets/colab-badge.svg\" alt=\"Open In Colab\"/></a>"
      ]
    },
    {
      "cell_type": "code",
      "execution_count": 3,
      "metadata": {
        "id": "h_ah83kPd8fd"
      },
      "outputs": [],
      "source": [
        "import math\n",
        "import copy"
      ]
    },
    {
      "cell_type": "code",
      "source": [
        "def print_board(board):\n",
        "  for row in board:\n",
        "    print(\" \".join(row))\n",
        "    print()\n",
        "\n",
        "def is_winner(board, player):\n",
        "  for i in range(3):\n",
        "    if all(board[i][j] == player for j in range(3)) or \\\n",
        "       all (board[i][j] == player for j in range(3)):\n",
        "       return True\n",
        "  if all (board[i][i] == player for i in range(3)) or \\\n",
        "     all (board[i][2-i] == player for i in range(3)):\n",
        "     return True\n",
        "  return False\n",
        "\n",
        "def is_board_full(board):\n",
        "  return all(board[i][j] != ' ' for i in range(3) for j in range(3))\n",
        "\n",
        "def get_empty_cells(board):\n",
        "  return[(i, j) for i in range(3) for j in range(3) if board[i][j] == ' ']\n",
        "\n",
        "def minimax(board, depth, maximizing_player):\n",
        "  if is_winner(board, 'X'):\n",
        "    return -1\n",
        "  if is_winner(board, 'O'):\n",
        "    return 1\n",
        "  if is_board_full(board):\n",
        "    return 0\n",
        "\n",
        "  if maximizing_player:\n",
        "    max_eval = -math.inf\n",
        "    for i, j in get_empty_cells(board):\n",
        "      board_copy = copy.deepcopy(board)\n",
        "      board_copy[i][j] = 'O'\n",
        "      eval = minimax(board_copy, depth + 1, False)\n",
        "      max_eval = max(max_eval, eval)\n",
        "    return max_eval\n",
        "  else:\n",
        "    min_eval = math.inf\n",
        "    for i, j in get_empty_cells(board):\n",
        "      board_copy = copy.deepcopy(board)\n",
        "      board_copy[i][j] = 'X'\n",
        "      eval = minimax(board_copy, depth + 1, True)\n",
        "      min_eval = min(min_eval, eval)\n",
        "    return min_eval\n",
        "\n",
        "def find_best_move(board):\n",
        "  best_val = -math.inf\n",
        "  best_move = (-1, -1)\n",
        "  for i, j in get_empty_cells(board):\n",
        "    board_copy = copy.deepcopy(board)\n",
        "    board_copy[i][j] = 'O'\n",
        "    move_val = minimax(board_copy, 0, False)\n",
        "    if move_val > best_val:\n",
        "      best_val = move_val\n",
        "      best_move = (i, j)\n",
        "  return best_move\n",
        "\n",
        "def main():\n",
        "  board = [[' 'for _ in range(3)]for _ in range(3)]\n",
        "  while True:\n",
        "    print_board(board)\n",
        "\n",
        "    row = int(input(\"Enter the row (0, 1 or 2): \"))\n",
        "    col = int(input(\"Enter the column (0, 1 or 2): \"))\n",
        "    if board[row][col] == ' ':\n",
        "      board[row][col] = 'X'\n",
        "    else:\n",
        "      print(\"Cell already occupied. Try again.\")\n",
        "      continue\n",
        "\n",
        "    if is_winner(board, 'X'):\n",
        "      print_board(board)\n",
        "      print(\"Congrats! You Win\")\n",
        "      break\n",
        "    elif is_board_full(board):\n",
        "      print_board(board)\n",
        "      print(\"It's a tie!\")\n",
        "      break\n",
        "\n",
        "    print(\"AI's Move: \")\n",
        "    row, col = find_best_move(board)\n",
        "    board[row][col] = 'O'\n",
        "\n",
        "    if is_winner(board, 'O'):\n",
        "      print_board(board)\n",
        "      print(\"AI Wins\")\n",
        "      break\n",
        "\n",
        "    elif is_board_full(board):\n",
        "      print_board(board)\n",
        "      print(\"It's a tie!\")\n",
        "      break\n",
        "\n",
        "if __name__ == \"__main__\":\n",
        "  main()"
      ],
      "metadata": {
        "colab": {
          "base_uri": "https://localhost:8080/"
        },
        "id": "7XPQy-mwev4D",
        "outputId": "93f03387-1c4e-4b80-c0be-3b78daaeb260"
      },
      "execution_count": 6,
      "outputs": [
        {
          "output_type": "stream",
          "name": "stdout",
          "text": [
            "     \n",
            "\n",
            "     \n",
            "\n",
            "     \n",
            "\n",
            "Enter the row (0, 1 or 2): 2\n",
            "Enter the column (0, 1 or 2): 0\n",
            "AI's Move: \n",
            "O    \n",
            "\n",
            "     \n",
            "\n",
            "X    \n",
            "\n",
            "Enter the row (0, 1 or 2): 1\n",
            "Enter the column (0, 1 or 2): 2\n",
            "AI's Move: \n",
            "O O  \n",
            "\n",
            "    X\n",
            "\n",
            "X    \n",
            "\n",
            "Enter the row (0, 1 or 2): 2\n",
            "Enter the column (0, 1 or 2): 2\n",
            "AI's Move: \n",
            "O O O\n",
            "\n",
            "    X\n",
            "\n",
            "X   X\n",
            "\n",
            "AI Wins\n"
          ]
        }
      ]
    }
  ]
}