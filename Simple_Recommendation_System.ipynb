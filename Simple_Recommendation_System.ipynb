{
  "nbformat": 4,
  "nbformat_minor": 0,
  "metadata": {
    "colab": {
      "provenance": [],
      "authorship_tag": "ABX9TyMWbl5n3UpbppNPxe8V/8Df",
      "include_colab_link": true
    },
    "kernelspec": {
      "name": "python3",
      "display_name": "Python 3"
    },
    "language_info": {
      "name": "python"
    }
  },
  "cells": [
    {
      "cell_type": "markdown",
      "metadata": {
        "id": "view-in-github",
        "colab_type": "text"
      },
      "source": [
        "<a href=\"https://colab.research.google.com/github/aleebaqi/CodSoft/blob/main/Simple_Recommendation_System.ipynb\" target=\"_parent\"><img src=\"https://colab.research.google.com/assets/colab-badge.svg\" alt=\"Open In Colab\"/></a>"
      ]
    },
    {
      "cell_type": "code",
      "execution_count": 1,
      "metadata": {
        "colab": {
          "base_uri": "https://localhost:8080/"
        },
        "id": "LcIosDtnPEG-",
        "outputId": "90a1120f-4269-43a5-bfdd-1ad78a5923e8"
      },
      "outputs": [
        {
          "output_type": "stream",
          "name": "stdout",
          "text": [
            "Collecting scikit-surprise\n",
            "  Downloading scikit-surprise-1.1.3.tar.gz (771 kB)\n",
            "\u001b[?25l     \u001b[90m━━━━━━━━━━━━━━━━━━━━━━━━━━━━━━━━━━━━━━━━\u001b[0m \u001b[32m0.0/772.0 kB\u001b[0m \u001b[31m?\u001b[0m eta \u001b[36m-:--:--\u001b[0m\r\u001b[2K     \u001b[91m━━━━━━━━\u001b[0m\u001b[90m╺\u001b[0m\u001b[90m━━━━━━━━━━━━━━━━━━━━━━━━━━━━━━━\u001b[0m \u001b[32m163.8/772.0 kB\u001b[0m \u001b[31m5.0 MB/s\u001b[0m eta \u001b[36m0:00:01\u001b[0m\r\u001b[2K     \u001b[91m━━━━━━━━━━━━━━━━━━━━━━━━━━━━━\u001b[0m\u001b[90m╺\u001b[0m\u001b[90m━━━━━━━━━━\u001b[0m \u001b[32m563.2/772.0 kB\u001b[0m \u001b[31m8.3 MB/s\u001b[0m eta \u001b[36m0:00:01\u001b[0m\r\u001b[2K     \u001b[90m━━━━━━━━━━━━━━━━━━━━━━━━━━━━━━━━━━━━━━━━\u001b[0m \u001b[32m772.0/772.0 kB\u001b[0m \u001b[31m8.4 MB/s\u001b[0m eta \u001b[36m0:00:00\u001b[0m\n",
            "\u001b[?25h  Preparing metadata (setup.py) ... \u001b[?25l\u001b[?25hdone\n",
            "Requirement already satisfied: joblib>=1.0.0 in /usr/local/lib/python3.10/dist-packages (from scikit-surprise) (1.3.2)\n",
            "Requirement already satisfied: numpy>=1.17.3 in /usr/local/lib/python3.10/dist-packages (from scikit-surprise) (1.23.5)\n",
            "Requirement already satisfied: scipy>=1.3.2 in /usr/local/lib/python3.10/dist-packages (from scikit-surprise) (1.11.4)\n",
            "Building wheels for collected packages: scikit-surprise\n",
            "  Building wheel for scikit-surprise (setup.py) ... \u001b[?25l\u001b[?25hdone\n",
            "  Created wheel for scikit-surprise: filename=scikit_surprise-1.1.3-cp310-cp310-linux_x86_64.whl size=3163750 sha256=42de2b0f2c919e1963f6acd58981b7945993d6729fb689c67120bc3256ec5669\n",
            "  Stored in directory: /root/.cache/pip/wheels/a5/ca/a8/4e28def53797fdc4363ca4af740db15a9c2f1595ebc51fb445\n",
            "Successfully built scikit-surprise\n",
            "Installing collected packages: scikit-surprise\n",
            "Successfully installed scikit-surprise-1.1.3\n"
          ]
        }
      ],
      "source": [
        "!pip install scikit-surprise"
      ]
    },
    {
      "cell_type": "code",
      "source": [
        "from surprise import Dataset, Reader, KNNBasic\n",
        "from surprise.model_selection import train_test_split\n",
        "from surprise import accuracy"
      ],
      "metadata": {
        "id": "Y1WSfVnJPPyd"
      },
      "execution_count": 2,
      "outputs": []
    },
    {
      "cell_type": "code",
      "source": [
        "data = [\n",
        "    ('User1', 'Item1', 5),\n",
        "    ('User1', 'Item2', 4),\n",
        "    ('user2', 'Item1', 3),\n",
        "    ('User2', 'Item2', 5),\n",
        "    ('User3', 'Item1', 4),\n",
        "    ('User3', 'Item2', 2),\n",
        "    ('User4', 'Item1', 1),\n",
        "    ('User4', 'Item2', 5),\n",
        "    ('User5', 'Item1', 2),\n",
        "    ('User5', 'Item2', 3),\n",
        "]\n",
        "\n",
        "import pandas as pd\n",
        "df = pd.DataFrame(data, columns=['uid', 'iid', 'rating'])\n",
        "\n",
        "reader = Reader(rating_scale=(1,5))\n",
        "dataset = Dataset.load_from_df(df[['uid', 'iid', 'rating']], reader)\n",
        "\n",
        "trainset, testset = train_test_split(dataset, test_size= 0.2)\n",
        "\n",
        "sim_options = {\n",
        "    'name' : 'cosine',\n",
        "    'user_based' : True,\n",
        "}\n",
        "\n",
        "model = KNNBasic(sim_options=sim_options)\n",
        "model.fit(trainset)\n",
        "predictions = model.test(testset)\n",
        "accuracy.rmse(predictions)\n",
        "\n",
        "user_id = 'User1'\n",
        "user_items = set(df.loc[df['uid'] == user_id]['iid'])\n",
        "all_items = set(df['iid'])\n",
        "items_to_recommend = list(all_items - user_items)\n",
        "predicted_ratings = [model.predict(user_id, item_id).est for item_id in items_to_recommend]\n",
        "\n",
        "N = 5\n",
        "top_indices = sorted(range(len(predicted_ratings)), key= lambda i: predicted_ratings[i], reverse=True)[:N]\n",
        "top_items= [items_to_recommend[i] for i in top_indices]\n",
        "\n",
        "print(f\"Top {N} recommendations for {user_id}: {top_items}\")"
      ],
      "metadata": {
        "colab": {
          "base_uri": "https://localhost:8080/"
        },
        "id": "arPFp51VQFF9",
        "outputId": "df5d2a0e-b6ca-435f-e1c6-c96caff2cbd1"
      },
      "execution_count": 8,
      "outputs": [
        {
          "output_type": "stream",
          "name": "stdout",
          "text": [
            "Computing the cosine similarity matrix...\n",
            "Done computing similarity matrix.\n",
            "RMSE: 2.3570\n",
            "Top 5 recommendations for User1: []\n"
          ]
        }
      ]
    }
  ]
}