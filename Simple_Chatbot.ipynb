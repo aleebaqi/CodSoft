{
  "nbformat": 4,
  "nbformat_minor": 0,
  "metadata": {
    "colab": {
      "provenance": [],
      "authorship_tag": "ABX9TyM0CBnRMAFFbfzO1rtQ8wF2",
      "include_colab_link": true
    },
    "kernelspec": {
      "name": "python3",
      "display_name": "Python 3"
    },
    "language_info": {
      "name": "python"
    }
  },
  "cells": [
    {
      "cell_type": "markdown",
      "metadata": {
        "id": "view-in-github",
        "colab_type": "text"
      },
      "source": [
        "<a href=\"https://colab.research.google.com/github/aleebaqi/CodSoft/blob/main/Simple_Chatbot.ipynb\" target=\"_parent\"><img src=\"https://colab.research.google.com/assets/colab-badge.svg\" alt=\"Open In Colab\"/></a>"
      ]
    },
    {
      "cell_type": "code",
      "execution_count": 1,
      "metadata": {
        "id": "7hJiiitAAgJy"
      },
      "outputs": [],
      "source": [
        "import re"
      ]
    },
    {
      "cell_type": "code",
      "source": [
        "def simple_chatbot (user_input):\n",
        "\n",
        "  rules = {\n",
        "      r'hello|hi|hey' : 'Hello there! hope everythings Ok. How can I help you?',\n",
        "      r'how are you' : 'Well I am a Bot, but thanks for asking',\n",
        "      r'your name|who are you' : 'I am a simple Chatbot.',\n",
        "      r'bye|goodbye' : 'Goodbye! Have a great day'\n",
        "  }\n",
        "\n",
        "  for pattern, response in rules.items():\n",
        "    if re.search (pattern, user_input, re.IGNORECASE):\n",
        "      return response\n",
        "\n",
        "  return \"I'm sorry, I did not understand that. Can you please rephrase?\"\n",
        "\n",
        "while True:\n",
        "  user_input = input(\"You: \")\n",
        "  if user_input.lower() == 'exit':\n",
        "    print(\"Chatbot: Goodbye!\")\n",
        "    break\n",
        "\n",
        "  bot_response = simple_chatbot(user_input)\n",
        "  print(\"Chatbot: \", bot_response)\n"
      ],
      "metadata": {
        "colab": {
          "base_uri": "https://localhost:8080/"
        },
        "id": "3-Enj0FiAnrj",
        "outputId": "a5f6e6bd-59bd-42c8-d07e-1264b40f7f29"
      },
      "execution_count": 6,
      "outputs": [
        {
          "output_type": "stream",
          "name": "stdout",
          "text": [
            "You: hey\n",
            "Chatbot:  Hello there! hope everythings Ok. How can I help you?\n",
            "You: how are you\n",
            "Chatbot:  Well I am a Bot, but thanks for asking\n",
            "You: who are you\n",
            "Chatbot:  I am a simple Chatbot.\n",
            "You: bye\n",
            "Chatbot:  Goodbye! Have a great day\n",
            "You: exit\n",
            "Chatbot: Goodbye!\n"
          ]
        }
      ]
    },
    {
      "cell_type": "code",
      "source": [],
      "metadata": {
        "id": "pDJM9k4fEyJn"
      },
      "execution_count": null,
      "outputs": []
    }
  ]
}